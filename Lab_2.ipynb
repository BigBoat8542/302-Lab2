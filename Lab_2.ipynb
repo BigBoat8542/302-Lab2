{
  "nbformat": 4,
  "nbformat_minor": 0,
  "metadata": {
    "colab": {
      "name": "Lab 2.ipynb",
      "provenance": [],
      "authorship_tag": "ABX9TyO/iVIk8+HfetdcvSxm1eKr",
      "include_colab_link": true
    },
    "kernelspec": {
      "name": "python3",
      "display_name": "Python 3"
    }
  },
  "cells": [
    {
      "cell_type": "markdown",
      "metadata": {
        "id": "view-in-github",
        "colab_type": "text"
      },
      "source": [
        "<a href=\"https://colab.research.google.com/github/BigBoat8542/302-Lab2/blob/main/Lab_2.ipynb\" target=\"_parent\"><img src=\"https://colab.research.google.com/assets/colab-badge.svg\" alt=\"Open In Colab\"/></a>"
      ]
    },
    {
      "cell_type": "code",
      "metadata": {
        "id": "jFkzt3iAfzOL"
      },
      "source": [
        "# Luke Watson-Sharer\n",
        "# March 11th\n"
      ],
      "execution_count": 9,
      "outputs": []
    },
    {
      "cell_type": "code",
      "metadata": {
        "colab": {
          "base_uri": "https://localhost:8080/"
        },
        "id": "mEJB2pHZf9_A",
        "outputId": "f6442c45-00b4-4f5b-dca1-25a3f1fd8e0b"
      },
      "source": [
        "#Part 1\n",
        "# Description: This script takes a number and determines if it's hot or cold for degrees farenheit. I am using recursive if and elif statements to test whether the temperature is hot, cold, cool or warm based on the range of input received\n",
        "import math #adding the math functions\n",
        "def feelTemp(): #creating feelRemp function\n",
        "  num = int(input(\"temperature = \")) # taking my first input, establishing that this is temp, variable made locally\n",
        "  if num >= 100: #first conditional testing the input\n",
        "    print(\"It is hot\")\n",
        "  elif num >=70 and num <=100: #second conditional testing input received\n",
        "    print(\"It's warm\")\n",
        "  elif num >=32 and num <=70: #third conditional testing input received\n",
        "    print (\"It is cool\")\n",
        "  elif num < 32: #4th conditional testing input received\n",
        "    print (\"It's cold\")\n",
        "feelTemp() #calling the function at the end to test\n",
        "\n",
        "\n",
        "\n",
        "\n",
        "  \n",
        "\n",
        " \n",
        "\n",
        "\n"
      ],
      "execution_count": 7,
      "outputs": [
        {
          "output_type": "stream",
          "text": [
            "temperature = 56\n",
            "It is cool\n"
          ],
          "name": "stdout"
        }
      ]
    },
    {
      "cell_type": "code",
      "metadata": {
        "colab": {
          "base_uri": "https://localhost:8080/"
        },
        "id": "t5aROAoRVTke",
        "outputId": "8e76df95-3f23-4d74-f321-665bcc56874e"
      },
      "source": [
        "i = 1\n",
        "if i == 1:\n",
        "  print(\"b is greater than a\")"
      ],
      "execution_count": 66,
      "outputs": [
        {
          "output_type": "stream",
          "text": [
            "b is greater than a\n"
          ],
          "name": "stdout"
        }
      ]
    },
    {
      "cell_type": "code",
      "metadata": {
        "colab": {
          "base_uri": "https://localhost:8080/"
        },
        "id": "WD2xtxkiB7CV",
        "outputId": "9509daa9-612b-4608-dafe-d447dfe25ed4"
      },
      "source": [
        "#Part 2\n",
        "#Description: This basically takes your name, then prints my name is what it is. Afterwards the questionable pedestrian asks for the time, and you privde them the time, evaluating but if its the afternoon or morning times to determine if this person is in need of coffee or sleep. Assume they're a 5am warrior\n",
        "\n",
        "name = input() #name input\n",
        "print('Hello my name is' +  name)\t# printing the name\n",
        "\n",
        "time = input(\"Excuse me\" + name + \"what time is it\") #creating time variable where the question is asked\n",
        "# include Pm vs. Am\n",
        "if \"Pm\" in time: # converting and testing if Pm appears in the text, testing that against an early time which is am\n",
        "  print(\"It's getting late, I need to hit the hay\")\n",
        "else: # if its not Pm\n",
        "  print(\"I need coffee then\")\n",
        "\n",
        "\n",
        "\n",
        "\n",
        "\n",
        "\n",
        "\n",
        "\n",
        "\n"
      ],
      "execution_count": 8,
      "outputs": [
        {
          "output_type": "stream",
          "text": [
            "luke\n",
            "Hello my name isluke\n",
            "Excuse melukewhat time is it2:30\n",
            "I need coffee then\n"
          ],
          "name": "stdout"
        }
      ]
    }
  ]
}